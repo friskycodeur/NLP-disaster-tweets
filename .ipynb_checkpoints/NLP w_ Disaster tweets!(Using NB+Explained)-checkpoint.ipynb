{
 "cells": [
  {
   "cell_type": "markdown",
   "metadata": {},
   "source": [
    "# <a id=\"top_section\"></a>\n",
    "\n",
    "<div align='center'><font size=\"5\" color=\"#000000\"><b>NLP with disaster tweets!-Starter modelling , data cleaning and explanation <br>(~80% accuracy)</b></font></div>\n",
    "<hr>\n",
    "<div align='center'><font size=\"5\" color=\"#000000\">About the problem</font></div>\n",
    "<hr>\n",
    "\n",
    "In this competition, you’re challenged to build a machine learning model that predicts which Tweets are about real disasters and which one’s aren’t.<br>\n",
    "I have two notebooks on this competition , the first one is using basic naive-base model whereas the second is by using BERT pre-trained model. If you're a beginner I highly recommend you to to start with this notebook! After that if you want to enhance your accuracy and read about how we can implement this model using BERT then do check out the second notebook here : <br><br>\n",
    "<a class=\"nav-link active\"  style=\"background-color:; color:Blue\"  href=\"https://lh3.googleusercontent.com/proxy/fbKFMqzpD5rqh-R4wh4bsiACiX4b6PUs2kzMSs61V36aWWxZd8y0I_ZHur3NEOXcLJ83BJKy7tZF4-Wflp9mtGWnaXkc3Cs1MmKWYmAAPOgt4Qudk1qi_hqLoePakMfmTN-A8146oiXMgKg07aQrYWrxM70\" role=\"tab\">NLP with disaster tweets!-Data-cleaning and Bert (Explained)</a>\n",
    "\n",
    "<br>\n",
    "<a href=\"https://ibb.co/nm4kTk1\"><img src=\"https://i.ibb.co/54Ccdcj/Aquamarine-and-Orange-Pixel-Games-Collection-You-Tube-Icon.png\" alt=\"Aquamarine-and-Orange-Pixel-Games-Collection-You-Tube-Icon\" border=\"0\" height=300 width=300></a>\n",
    "\n",
    "\n",
    "### Here are the things I will try to cover in this Notebook:\n",
    "\n",
    "- Basic EDA of the text data.\n",
    "- Data cleaning (basic)\n",
    "- Data Cleaning (advanced)\n",
    "- Transforming text into vectors\n",
    "- Building our model \n",
    "\n",
    "### If you like this kernel feel free to upvote and leave feedback, thanks!"
   ]
  },
  {
   "cell_type": "markdown",
   "metadata": {},
   "source": [
    "<a id=\"toc_section\"></a>\n",
    "<div class=\"list-group\" id=\"list-tab\" role=\"tablist\">\n",
    "\n",
    "<h3 class=\"list-group-item list-group-item-action active\" data-toggle=\"list\"  role=\"tab\" aria-controls=\"home\"> Table of Content</h3>\n",
    "\n",
    "* [Introduction](#top_section)\n",
    "* [Importing the Required Libraries and Data](#sec1)\n",
    "* [Exploring the Data](#sec2)\n",
    "    - [Visualizing given dataset](#sec3)\n",
    "* [Text Pre-processing](#sec4)\n",
    "    - [Basic data cleaning](#sec5)\n",
    "    - [Advanced data cleaning](#sec6)\n",
    "    - [Using NLP processing](#sec7)\n",
    "    - [Stemming](#sec8)\n",
    "    - [Frequent words using WordCloud](#sec9)\n",
    "* [Transform token in vectors](#sec10)\n",
    "    - [Bag of words](#sec11)\n",
    "* [Modelling](#sec13)\n",
    "* [Submission & Some Last Words](#sectionlst)\n",
    "* [References](#sec14)\n"
   ]
  },
  {
   "cell_type": "markdown",
   "metadata": {},
   "source": [
    "<a id=\"sec1\"></a>\n",
    "## Importing the required libraries and data\n"
   ]
  },
  {
   "cell_type": "markdown",
   "metadata": {},
   "source": [
    "Let us start with importing all the required libraries ! We will use the basic libraries to play with data(numpy,pandas,etc),some text related libraries (re,string,nltk,etc) and various model libraries."
   ]
  },
  {
   "cell_type": "code",
   "execution_count": null,
   "metadata": {},
   "outputs": [],
   "source": [
    "import numpy as np\n",
    "import pandas as pd\n",
    "import matplotlib.pyplot as plt\n",
    "import seaborn as sns\n",
    "%matplotlib inline\n",
    "\n",
    "import re\n",
    "import string\n",
    "import nltk\n",
    "from nltk.corpus import stopwords\n",
    "import xgboost as xgb\n",
    "from xgboost import XGBClassifier\n",
    "from sklearn.model_selection import GridSearchCV,StratifiedKFold,RandomizedSearchCV\n",
    "from sklearn.linear_model import LogisticRegression\n",
    "from sklearn.naive_bayes import MultinomialNB\n",
    "from sklearn.metrics import f1_score\n",
    "from wordcloud import WordCloud,STOPWORDS\n",
    "from sklearn.model_selection import train_test_split\n",
    "from nltk.stem.snowball import SnowballStemmer"
   ]
  },
  {
   "cell_type": "markdown",
   "metadata": {},
   "source": [
    "Now let's import our datasets , both train and test."
   ]
  },
  {
   "cell_type": "code",
   "execution_count": null,
   "metadata": {},
   "outputs": [],
   "source": [
    "train=pd.read_csv('../input/nlp-getting-started/train.csv')\n",
    "test=pd.read_csv('../input/nlp-getting-started/test.csv')\n",
    "dataset=pd.concat([train,test])\n",
    "print(f'train:{train.shape}\\ntest:{test.shape}\\ndataset:{dataset.shape}')"
   ]
  },
  {
   "cell_type": "markdown",
   "metadata": {},
   "source": [
    "<a id=\"sec2\"></a>\n",
    "## Exploring the data\n"
   ]
  },
  {
   "cell_type": "markdown",
   "metadata": {},
   "source": [
    "Let's take a sneak peak at our data set ! ;)\n",
    "\n",
    "<img src='https://media1.tenor.com/images/41597f32f2989333d14515fb1b7a9b4f/tenor.gif?itemid=13480143'>"
   ]
  },
  {
   "cell_type": "code",
   "execution_count": null,
   "metadata": {},
   "outputs": [],
   "source": [
    "train.head()"
   ]
  },
  {
   "cell_type": "code",
   "execution_count": null,
   "metadata": {},
   "outputs": [],
   "source": [
    "test.head()"
   ]
  },
  {
   "cell_type": "markdown",
   "metadata": {},
   "source": [
    "Let's see how much of our data is missing !"
   ]
  },
  {
   "cell_type": "code",
   "execution_count": null,
   "metadata": {},
   "outputs": [],
   "source": [
    "(train.isnull().sum()[train.isnull().sum()>0]/len(train))*100"
   ]
  },
  {
   "cell_type": "code",
   "execution_count": null,
   "metadata": {},
   "outputs": [],
   "source": [
    "pd.DataFrame({'Test Data Missing':(test.isnull().mean()*100).sort_values(ascending=False)})"
   ]
  },
  {
   "cell_type": "markdown",
   "metadata": {},
   "source": [
    "We will deal with the missing data a bit later. But first let's look at some examples of disaster and non-disaster tweets !"
   ]
  },
  {
   "cell_type": "code",
   "execution_count": null,
   "metadata": {},
   "outputs": [],
   "source": [
    "non_dis = train[train.target==0]['text']\n",
    "non_dis.values[7]"
   ]
  },
  {
   "cell_type": "code",
   "execution_count": null,
   "metadata": {},
   "outputs": [],
   "source": [
    "dis=train[train.target==1]['text']\n",
    "dis.values[7]"
   ]
  },
  {
   "cell_type": "markdown",
   "metadata": {},
   "source": [
    "Let's see how many disaster and non-disaster tweets are actually there in our data !"
   ]
  },
  {
   "cell_type": "code",
   "execution_count": null,
   "metadata": {},
   "outputs": [],
   "source": [
    "train.target.value_counts()"
   ]
  },
  {
   "cell_type": "markdown",
   "metadata": {},
   "source": [
    "<a id=\"sec3\"></a>\n",
    "## Visualizing the data !\n"
   ]
  },
  {
   "cell_type": "markdown",
   "metadata": {},
   "source": [
    "Now that we have seen how our data is , how much it is missing and some counts, let's visualize our data so that we can to more explore and make better of it!"
   ]
  },
  {
   "cell_type": "markdown",
   "metadata": {},
   "source": [
    "First let's see the count of disaster and non-disaster tweets !"
   ]
  },
  {
   "cell_type": "code",
   "execution_count": null,
   "metadata": {},
   "outputs": [],
   "source": [
    "plt.figure(figsize=(6,6))\n",
    "sns.barplot(train.target.value_counts().index,train.target.value_counts())"
   ]
  },
  {
   "cell_type": "markdown",
   "metadata": {},
   "source": [
    "Now let's see how much of the keywords were actualy unique ! We will use the nunique function of pandas for this !"
   ]
  },
  {
   "cell_type": "code",
   "execution_count": null,
   "metadata": {},
   "outputs": [],
   "source": [
    "train.keyword.nunique()"
   ]
  },
  {
   "cell_type": "markdown",
   "metadata": {},
   "source": [
    "Now let's see the top 15 most used keywords ! Maybe we can get some insights from this !"
   ]
  },
  {
   "cell_type": "code",
   "execution_count": null,
   "metadata": {},
   "outputs": [],
   "source": [
    "plt.figure(figsize=(12,12))\n",
    "sns.barplot(y=train.keyword.value_counts().index[:15],x=train.keyword.value_counts()[:15])"
   ]
  },
  {
   "cell_type": "markdown",
   "metadata": {},
   "source": [
    "So some highly used keywords are fatalities , sinking , harm , damage , etc which can actually be very helpful in finding either the given tweet is disaster related or not !"
   ]
  },
  {
   "cell_type": "markdown",
   "metadata": {},
   "source": [
    "Now let's see the unique locations that the tweets in our dataset were tweeted from !"
   ]
  },
  {
   "cell_type": "code",
   "execution_count": null,
   "metadata": {},
   "outputs": [],
   "source": [
    "print(train.location.nunique())"
   ]
  },
  {
   "cell_type": "markdown",
   "metadata": {},
   "source": [
    "Let's see the top 15 locations where the most tweets come from !"
   ]
  },
  {
   "cell_type": "code",
   "execution_count": null,
   "metadata": {},
   "outputs": [],
   "source": [
    "plt.figure(figsize=(12,12))\n",
    "sns.barplot(y=train.location.value_counts().index[:15],x=train.location.value_counts()[:15])"
   ]
  },
  {
   "cell_type": "markdown",
   "metadata": {},
   "source": [
    "Well , what are the places where the least tweets were tweeted from ? Let's find out !"
   ]
  },
  {
   "cell_type": "code",
   "execution_count": null,
   "metadata": {},
   "outputs": [],
   "source": [
    "plt.figure(figsize=(12,12))\n",
    "sns.barplot(y=train.location.value_counts().index[-10:],x=train.location.value_counts()[-10:])"
   ]
  },
  {
   "cell_type": "markdown",
   "metadata": {},
   "source": [
    "So we have seen how some locations have very high tweeting activity whereas some have very low , and how alot of keywords were highly used and how many of them were alot hinting towards the nature of the tweet(i.e disastarious or non-disastarious)."
   ]
  },
  {
   "cell_type": "markdown",
   "metadata": {},
   "source": [
    "<a id=\"sec4\"></a>\n",
    "## Text Pre-processing"
   ]
  },
  {
   "cell_type": "markdown",
   "metadata": {},
   "source": [
    "Now comes one of the mosst important parts of any Natural Language Processing Problem ! Let's clean our data !"
   ]
  },
  {
   "cell_type": "markdown",
   "metadata": {},
   "source": [
    "<img src='https://media.tenor.com/images/0bf00f08e5e5cce9bb1ec5899cbc046b/tenor.gif'>"
   ]
  },
  {
   "cell_type": "markdown",
   "metadata": {},
   "source": [
    "<a id=\"sec5\"></a>\n",
    "### Basic Data cleaning"
   ]
  },
  {
   "cell_type": "markdown",
   "metadata": {},
   "source": [
    "We will start with cleaning basic text noises such as URLS , Email IDS , punctautions etc."
   ]
  },
  {
   "cell_type": "markdown",
   "metadata": {},
   "source": [
    "All the functions are below and quiet basic !"
   ]
  },
  {
   "cell_type": "code",
   "execution_count": null,
   "metadata": {},
   "outputs": [],
   "source": [
    "def lowercase_text(text):\n",
    "    return text.lower()\n",
    "\n",
    "train.text=train.text.apply(lambda x: lowercase_text(x))\n",
    "test.text=test.text.apply(lambda x: lowercase_text(x))"
   ]
  },
  {
   "cell_type": "code",
   "execution_count": null,
   "metadata": {},
   "outputs": [],
   "source": [
    "train.text.head(5)"
   ]
  },
  {
   "cell_type": "code",
   "execution_count": null,
   "metadata": {},
   "outputs": [],
   "source": [
    "def remove_noise(text):\n",
    "    text = re.sub('\\[.*?\\]', '', text)\n",
    "    text = re.sub('https?://\\S+|www\\.\\S+', '', text)\n",
    "    text = re.sub('<.*?>+', '', text)\n",
    "    text = re.sub('[%s]' % re.escape(string.punctuation), '', text)\n",
    "    text = re.sub('\\n', '', text)\n",
    "    text = re.sub('\\w*\\d\\w*', '', text)\n",
    "    return text"
   ]
  },
  {
   "cell_type": "code",
   "execution_count": null,
   "metadata": {},
   "outputs": [],
   "source": [
    "train.text=train.text.apply(lambda x: remove_noise(x))\n",
    "test.text=test.text.apply(lambda x: remove_noise(x))"
   ]
  },
  {
   "cell_type": "code",
   "execution_count": null,
   "metadata": {},
   "outputs": [],
   "source": [
    "train.text.head(5)"
   ]
  },
  {
   "cell_type": "markdown",
   "metadata": {},
   "source": [
    "<a id=\"sec7\"></a>\n",
    "### Using NLP processing"
   ]
  },
  {
   "cell_type": "markdown",
   "metadata": {},
   "source": [
    "Now we will use NLP preprocessing to process our data ! This actually gave me better results so , let's use it !"
   ]
  },
  {
   "cell_type": "code",
   "execution_count": null,
   "metadata": {},
   "outputs": [],
   "source": [
    "!pip install nlppreprocess\n",
    "from nlppreprocess import NLP\n",
    "\n",
    "nlp = NLP()\n",
    "\n",
    "train['text'] = train['text'].apply(nlp.process)\n",
    "test['text'] = test['text'].apply(nlp.process)  "
   ]
  },
  {
   "cell_type": "code",
   "execution_count": null,
   "metadata": {},
   "outputs": [],
   "source": [
    "train.text.sample(10)"
   ]
  },
  {
   "cell_type": "markdown",
   "metadata": {},
   "source": [
    "<a id=\"sec8\"></a>\n",
    "### Stemming"
   ]
  },
  {
   "cell_type": "markdown",
   "metadata": {},
   "source": [
    "Now we have to stem our text , will be using SnowballStemmer as it is quite good for the job ! So let's just get to the code !"
   ]
  },
  {
   "cell_type": "code",
   "execution_count": null,
   "metadata": {},
   "outputs": [],
   "source": [
    "stemmer = SnowballStemmer(\"english\")\n",
    "\n",
    "def stemming(text):\n",
    "    text = [stemmer.stem(word) for word in text.split()]\n",
    "    return ' '.join(text)\n",
    "\n",
    "train['text'] = train['text'].apply(stemming)\n",
    "test['text'] = test['text'].apply(stemming)"
   ]
  },
  {
   "cell_type": "markdown",
   "metadata": {},
   "source": [
    "<a id=\"sec9\"></a>\n",
    "### Frequent words using wordcloud"
   ]
  },
  {
   "cell_type": "markdown",
   "metadata": {},
   "source": [
    "This is just a fun part , I loved this thing i found in one of the notebooks so i added it in mine ! <br>\n",
    "This is a wordcloud of the frequent words in our text and it's actually quite cool to look at !"
   ]
  },
  {
   "cell_type": "code",
   "execution_count": null,
   "metadata": {},
   "outputs": [],
   "source": [
    "from wordcloud import WordCloud\n",
    "fig , ax1 = plt.subplots(1,figsize=(12,12))\n",
    "wordcloud=WordCloud(background_color='white',width=600,height=600).generate(\" \".join(train.text))\n",
    "ax1.imshow(wordcloud)\n",
    "ax1.axis('off')\n",
    "ax1.set_title('Frequent Words',fontsize=24)"
   ]
  },
  {
   "cell_type": "markdown",
   "metadata": {},
   "source": [
    "<img src='https://i.gifer.com/EP97.gif'>"
   ]
  },
  {
   "cell_type": "markdown",
   "metadata": {},
   "source": [
    "<a id=\"sec10\"></a>\n",
    "##  Transform token in vectors"
   ]
  },
  {
   "cell_type": "markdown",
   "metadata": {},
   "source": [
    "Up until now , we have done all the processing to the texts , but you and I both know that our system cannot really read any language(English in this case) so how do we train it on this data ?"
   ]
  },
  {
   "cell_type": "markdown",
   "metadata": {},
   "source": [
    "Simple we will convert the text data into numerical vectors ! ;) <br>\n",
    "For this we can use two approaches , the first one being Bag-of-Words and the second one being TFIDF.<br>\n",
    "For this model I will be using bag of words !"
   ]
  },
  {
   "cell_type": "markdown",
   "metadata": {},
   "source": [
    "<a id=\"sec11\"></a>\n",
    "### Using Bag of words"
   ]
  },
  {
   "cell_type": "markdown",
   "metadata": {},
   "source": [
    "So let's create our bag of words then ! If you do not know about bag of words , you can read about it here >>\n",
    "[BAG OF WORDS](https://machinelearningmastery.com/gentle-introduction-bag-words-model/#:~:text=A%20bag%2Dof%2Dwords%20is,the%20presence%20of%20known%20words.)"
   ]
  },
  {
   "cell_type": "code",
   "execution_count": null,
   "metadata": {},
   "outputs": [],
   "source": [
    "from sklearn.feature_extraction.text import CountVectorizer\n",
    "count_vectorizer=CountVectorizer(analyzer='word',binary=True)\n",
    "count_vectorizer.fit(train.text)\n",
    "\n",
    "train_vec = count_vectorizer.fit_transform(train.text)\n",
    "test_vec = count_vectorizer.transform(test.text)\n",
    "\n",
    "print(train_vec[7].todense())\n",
    "print(test_vec[7].todense())"
   ]
  },
  {
   "cell_type": "markdown",
   "metadata": {},
   "source": [
    "<a id=\"sec13\"></a>\n",
    "## Modelling"
   ]
  },
  {
   "cell_type": "markdown",
   "metadata": {},
   "source": [
    "Now we have pre-processed our data , converted it so that our machine can actually process and use it ! So comes the final step , let's get our model ready !"
   ]
  },
  {
   "cell_type": "markdown",
   "metadata": {},
   "source": [
    "First we will store the target data into y variable !"
   ]
  },
  {
   "cell_type": "code",
   "execution_count": null,
   "metadata": {},
   "outputs": [],
   "source": [
    "y=train.target"
   ]
  },
  {
   "cell_type": "markdown",
   "metadata": {},
   "source": [
    "We will use a multinomial Naive Bayes model for this notebook ! You can go ahead and choose your own model as per you like , can also play with this model's parameters so as to increase it's accuracy! But for me this gave a accuracy of around 79.6% "
   ]
  },
  {
   "cell_type": "code",
   "execution_count": null,
   "metadata": {},
   "outputs": [],
   "source": [
    "from sklearn import model_selection\n",
    "model =MultinomialNB(alpha=1)\n",
    "scores= model_selection.cross_val_score(model,train_vec,y,cv=6,scoring='f1')\n",
    "scores"
   ]
  },
  {
   "cell_type": "markdown",
   "metadata": {},
   "source": [
    "Now let's train our model !"
   ]
  },
  {
   "cell_type": "code",
   "execution_count": null,
   "metadata": {},
   "outputs": [],
   "source": [
    "model.fit(train_vec,y)"
   ]
  },
  {
   "cell_type": "markdown",
   "metadata": {},
   "source": [
    "<a id=\"sectionlst\"></a>\n",
    "#  Submission\n",
    "\n",
    "<a href=\"#toc_section\" class=\"btn btn-primary\" style=\"color:white;\" >Back to Table of Content</a>"
   ]
  },
  {
   "cell_type": "markdown",
   "metadata": {},
   "source": [
    "Now we will use the sample_submission csv file as reference and fill the target column with our predictions !"
   ]
  },
  {
   "cell_type": "code",
   "execution_count": null,
   "metadata": {},
   "outputs": [],
   "source": [
    "sample_submission=pd.read_csv('../input/nlp-getting-started/sample_submission.csv')"
   ]
  },
  {
   "cell_type": "markdown",
   "metadata": {},
   "source": [
    "Let's fill the target column !"
   ]
  },
  {
   "cell_type": "code",
   "execution_count": null,
   "metadata": {},
   "outputs": [],
   "source": [
    "sample_submission.target= model.predict(test_vec)"
   ]
  },
  {
   "cell_type": "markdown",
   "metadata": {},
   "source": [
    "Mind taking a sneak-peak? :P"
   ]
  },
  {
   "cell_type": "code",
   "execution_count": null,
   "metadata": {},
   "outputs": [],
   "source": [
    "sample_submission.head()"
   ]
  },
  {
   "cell_type": "markdown",
   "metadata": {},
   "source": [
    "Finally ,let's convert our predictions into .csv file and submit it !"
   ]
  },
  {
   "cell_type": "code",
   "execution_count": null,
   "metadata": {},
   "outputs": [],
   "source": [
    "sample_submission.to_csv('submission.csv',index=False)"
   ]
  },
  {
   "cell_type": "markdown",
   "metadata": {},
   "source": [
    "Now, do you want to increase your accuracy ? Do you want to know how to get to 84-85 % accuracy ? Do you want to know how BERT can help attain that accuract? Do you want to know if it is possible to get to 100% accuracy ?If yes , then Check out my other notebook on the same problem here :\n",
    "<a class=\"nav-link active\"  style=\"background-color:; color:Blue\"  href=\"https://lh3.googleusercontent.com/proxy/fbKFMqzpD5rqh-R4wh4bsiACiX4b6PUs2kzMSs61V36aWWxZd8y0I_ZHur3NEOXcLJ83BJKy7tZF4-Wflp9mtGWnaXkc3Cs1MmKWYmAAPOgt4Qudk1qi_hqLoePakMfmTN-A8146oiXMgKg07aQrYWrxM70\" role=\"tab\">NLP with disaster tweets!-Data-cleaning and Bert (Explained)</a>"
   ]
  },
  {
   "cell_type": "markdown",
   "metadata": {},
   "source": [
    "<a id=\"sec14\"></a>\n",
    "#  References"
   ]
  },
  {
   "cell_type": "markdown",
   "metadata": {},
   "source": [
    "- [Basic EDA,Cleaning and GloVe](https://www.kaggle.com/shahules/basic-eda-cleaning-and-glove)\n",
    "- [NLP with Disaster Tweets - EDA, Cleaning and BERT](https://www.kaggle.com/gunesevitan/nlp-with-disaster-tweets-eda-cleaning-and-bert)\n",
    "- [Disaster NLP: Keras BERT using TFHub](https://www.kaggle.com/xhlulu/disaster-nlp-keras-bert-using-tfhub)\n"
   ]
  },
  {
   "cell_type": "markdown",
   "metadata": {},
   "source": [
    "<img src='https://i.pinimg.com/originals/2f/08/84/2f088410e696203853ecf91a3fbcd0f4.gif'>"
   ]
  },
  {
   "cell_type": "markdown",
   "metadata": {},
   "source": [
    "# Some last words:\n",
    "\n",
    "Thank you for reading! I'm still a beginner and want to improve myself in every way I can. So if you have any ideas to feedback please let me know in the comments section!\n",
    "\n",
    "\n",
    "<div align='center'><font size=\"3\" color=\"#000000\"><b>And again please star if you liked this notebook so it can reach more people, Thanks!</b></font></div>"
   ]
  },
  {
   "cell_type": "markdown",
   "metadata": {},
   "source": [
    "<img src=\"https://media1.giphy.com/media/j2ersR5s9rDnUpMDBI/giphy.gif\" alt=\"Thank you!\" width=\"500\" height=\"600\">"
   ]
  }
 ],
 "metadata": {
  "kernelspec": {
   "display_name": "Python 3",
   "language": "python",
   "name": "python3"
  },
  "language_info": {
   "codemirror_mode": {
    "name": "ipython",
    "version": 3
   },
   "file_extension": ".py",
   "mimetype": "text/x-python",
   "name": "python",
   "nbconvert_exporter": "python",
   "pygments_lexer": "ipython3",
   "version": "3.8.3"
  }
 },
 "nbformat": 4,
 "nbformat_minor": 4
}
